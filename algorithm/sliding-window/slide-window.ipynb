{
 "cells": [
  {
   "cell_type": "markdown",
   "metadata": {},
   "source": [
    "## Leetcode\n",
    "### No3.longest-substring-without-repeating-characters \n",
    "- https://leetcode.cn/problems/longest-substring-without-repeating-characters/description/"
   ]
  },
  {
   "cell_type": "code",
   "execution_count": null,
   "metadata": {},
   "outputs": [],
   "source": [
    "class Solution:\n",
    "    def lengthOfLongestSubstring(self, s: str) -> int:\n",
    "        maxcnt = 0\n",
    "        n = len(s)\n",
    "        for ii in range(n):\n",
    "            ss = set()\n",
    "            cnt = 0\n",
    "            for jj in range(ii,n):\n",
    "                if s[jj] in ss:\n",
    "                    break\n",
    "                else:\n",
    "                    ss.add(s[jj])\n",
    "                    cnt+=1\n",
    "                    maxcnt = max(maxcnt,cnt)\n",
    "        return maxcnt\n",
    "    # 726 ms 177mb, 右边界on2"
   ]
  },
  {
   "cell_type": "code",
   "execution_count": null,
   "metadata": {},
   "outputs": [],
   "source": [
    "## 题解\n",
    "class Solution:\n",
    "    def lengthOfLongestSubstring(self, s: str) -> int:\n",
    "        win = set()\n",
    "        res,l = 0,0\n",
    "        for i, x in enumerate(s):\n",
    "            while x in win:  # 这里必须要用while，不断收缩左边界，不断清除l的值，清除win直到干净\n",
    "                win.remove(s[l])\n",
    "                l +=1\n",
    "            win.add(s[i])\n",
    "            res = max(res, (i-l+1))\n",
    "        return res\n",
    "## 15ms on"
   ]
  },
  {
   "cell_type": "markdown",
   "metadata": {},
   "source": [
    "### No.30 串联所有单词的子串 HARD\n",
    "- https://leetcode.cn/problems/substring-with-concatenation-of-all-words/description/"
   ]
  },
  {
   "cell_type": "markdown",
   "metadata": {},
   "source": [
    "### 187. 重复的DNA序列 Medium\n",
    "- https://leetcode-cn.com/problems/repeated-dna-sequences/\n",
    "\n",
    "如果在set中，则出现过1次，增加至result中\n",
    "defaultdict， 直接+=1， 不会出现keyerror，不用判断是否存在key"
   ]
  },
  {
   "cell_type": "code",
   "execution_count": null,
   "metadata": {},
   "outputs": [],
   "source": [
    "class Solution:\n",
    "    def findRepeatedDnaSequences(self, s: str) -> List[str]:\n",
    "        # sub len 10\n",
    "        res = set()\n",
    "        n = len(s)\n",
    "        m = {}\n",
    "        for ii in range(n-9):\n",
    "            sub = s[ii:ii+10]\n",
    "            if sub in res:\n",
    "                m[sub]+=1\n",
    "            else:\n",
    "                m[sub]=1\n",
    "            res.add(sub)\n",
    "            # print(sub,res,m)\n",
    "        return [r for r,v in m.items() if v>1]\n",
    "    # 43ms 32.49MB"
   ]
  },
  {
   "cell_type": "code",
   "execution_count": null,
   "metadata": {},
   "outputs": [],
   "source": [
    "class Solution:\n",
    "    def findRepeatedDnaSequences(self, s: str) -> List[str]:\n",
    "        # sub len 10\n",
    "        res = set()\n",
    "        n = len(s)\n",
    "        m = set()\n",
    "        for ii in range(n-9):\n",
    "            sub = s[ii:ii+10]\n",
    "            if sub in res:\n",
    "                m.add(sub)\n",
    "            res.add(sub)\n",
    "            # print(sub,res,m)\n",
    "        return list(m)\n",
    " # 27ms, 28.63mb"
   ]
  },
  {
   "cell_type": "markdown",
   "metadata": {},
   "source": [
    "### No.220. 存在重复元素 III HARD\n",
    "- https://leetcode-cn.com/problems/contains-duplicate-iii/"
   ]
  },
  {
   "cell_type": "markdown",
   "metadata": {},
   "source": [
    "### 424. 替换后的最长重复字符\n",
    "- https://leetcode.cn/problems/longest-repeating-character-replacement/description/\n",
    "\n",
    "滑动窗口的大小+K为有效窗口\n",
    "窗口大小判断"
   ]
  },
  {
   "cell_type": "code",
   "execution_count": null,
   "metadata": {},
   "outputs": [],
   "source": [
    "class Solution:\n",
    "    def characterReplacement(self, s: str, k: int) -> int:\n",
    "        maxcnt = 0\n",
    "        d = defaultdict(int)\n",
    "        d[s[0]]=0\n",
    "        l=0\n",
    "        for r in range(len(s)):\n",
    "            d[s[r]]+=1\n",
    "\n",
    "            if r-l+1>k+max(d.values()):\n",
    "                d[s[l]]-=1\n",
    "                l+=1\n",
    "            # print(s[l:r+1],d)\n",
    "            maxcnt = max(maxcnt,r-l+1)\n",
    "        return maxcnt\n",
    "\n",
    "# 159ms 17.58mb 遍历右边界，左边界收缩 动态窗口"
   ]
  },
  {
   "cell_type": "code",
   "execution_count": null,
   "metadata": {},
   "outputs": [],
   "source": [
    "#动态控制左边界的通用框架\n",
    "l = 0  # 左边界初始化\n",
    "for r in range(len(arr)):  # 右边界不断扩展\n",
    "    # 进行窗口扩展操作\n",
    "    window.add(arr[r])  \n",
    "\n",
    "    # 当窗口不合法时，移动左边界 `l`\n",
    "    while not valid(window):  \n",
    "        window.remove(arr[l])\n",
    "        l += 1\n",
    "\n",
    "    # 处理当前窗口的答案（最大长度、最小长度等）\n",
    "    res = update_answer(res, window)\n"
   ]
  },
  {
   "cell_type": "markdown",
   "metadata": {},
   "source": [
    "#### 🚀 动态控制左边界的核心思路\n",
    "在滑动窗口问题中，动态控制左边界 (l) 的本质是：\n",
    "\n",
    "右边界 (r) 先扩展窗口，让窗口尽可能大。\n",
    "\n",
    "当窗口不符合题目要求时，移动左边界 (l) 缩小窗口，直到恢复合法状态。\n",
    "\n",
    "窗口满足条件时，更新答案（例如最长子串长度、最大和等）。\n",
    "#### 📌 何时需要动态控制左边界？\n",
    "窗口内包含的元素个数超出限制（例如 窗口大小 - 最多字符 ≤ k）。\n",
    "\n",
    "窗口内的某个统计值超过阈值（例如和、乘积、不同字符数等）。\n",
    "\n",
    "窗口的性质不符合题目要求（例如含有重复字符、子数组和大于某值等）。\n",
    "\n",
    "想要保证窗口的滑动是 O(n) 级别的（例如最小长度子数组问题）。"
   ]
  },
  {
   "cell_type": "markdown",
   "metadata": {},
   "source": [
    "📌 为什么这样控制 l？\n",
    "\n",
    "r 负责扩展窗口，让窗口尽可能大。\n",
    "\n",
    "只有当窗口不合法时，才需要调整 l 进行收缩，避免无效缩小。\n",
    "\n",
    "这样保证每个字符最多被遍历两次（O(n)），不会退回去重新计算。"
   ]
  },
  {
   "cell_type": "markdown",
   "metadata": {},
   "source": [
    "快速判断是否应该控制左边界 (l)\n",
    "你可以问自己这些问题：\n",
    "\n",
    "窗口需要动态调整大小吗？\n",
    "\n",
    "✅ 是 → 需要控制左边界 l。\n",
    "❌ 否 → 右边界 r 线性遍历即可。\n",
    "窗口可能会“超出”某个限制，需要修正吗？\n",
    "\n",
    "✅ 是 → r 先扩展，l 负责修正（例如字符重复、总和超出 target）。\n",
    "❌ 否 → r 线性增长就可以。\n",
    "目标是找最长 or 最短子串？\n",
    "\n",
    "✅ 是 → 需要 l 控制窗口大小。\n",
    "❌ 否 → 直接遍历 r 可能就够了。"
   ]
  },
  {
   "cell_type": "markdown",
   "metadata": {},
   "source": [
    "什么时候控制右边界？\n",
    "✅ 右边界 r 主要用于 “扩展窗口”，适用于 “找到某个满足条件的最短子串” 或 “穷尽所有可能情况” 的问题。\n",
    "\n",
    "🔹 适用场景：\n",
    "\n",
    "需要遍历所有可能的子串（如 r 递增不会造成问题）。\n",
    "需要找到所有满足条件的子串（如找所有符合条件的窗口）。\n",
    "不会涉及窗口大小的动态调整。\n",
    "🔹 典型例题：\n",
    "\n",
    "找所有长度固定的子串（r 直接移动）\n",
    "示例：滑动窗口求固定长度 k 的子数组最大和。\n",
    "子序列问题（右边界 r 自增查找）\n",
    "示例：LeetCode 392. 判断子序列\n",
    "判断 s 是否是 t 的子序列，r 只需要一直移动。"
   ]
  },
  {
   "cell_type": "markdown",
   "metadata": {},
   "source": [
    "什么时候控制左边界？\n",
    "✅ 左边界 l 主要用于 “动态收缩窗口”，适用于**“找最长的、最优的、最小满足条件的子串”**。\n",
    "\n",
    "🔹 适用场景：\n",
    "\n",
    "窗口大小动态调整（r 扩展窗口后，可能导致不满足条件，需要 l 右移）。\n",
    "最长 / 最短子串问题（需要找到最大 / 最小合法窗口）。\n",
    "窗口内某个条件不满足时，需要收缩窗口。\n",
    "🔹 典型例题：\n",
    "\n",
    "找满足条件的最长子串（l 调整使窗口符合条件）\n",
    "示例：LeetCode 424. 替换后的最长重复字符\n",
    "允许 k 次修改，求最长重复子串。\n",
    "示例：LeetCode 3. 无重复字符的最长子串\n",
    "l 负责收缩窗口以去除重复字符。\n",
    "找满足条件的最短子串（l 调整以缩小窗口）\n",
    "示例：LeetCode 76. 最小覆盖子串\n",
    "需要包含 t 所有字符的最短 s 子串。\n",
    "示例：LeetCode 209. 长度最小的子数组\n",
    "求和大于等于 target 的最短子数组。"
   ]
  },
  {
   "cell_type": "markdown",
   "metadata": {},
   "source": [
    "### 480. 滑动窗口中位数 HARD\n",
    "https://leetcode-cn.com/problems/sliding-window-median/"
   ]
  },
  {
   "cell_type": "markdown",
   "metadata": {},
   "source": [
    "### 567. 字符串的排列\n",
    "https://leetcode.cn/problems/permutation-in-string/description/"
   ]
  },
  {
   "cell_type": "code",
   "execution_count": null,
   "metadata": {},
   "outputs": [],
   "source": [
    "### 567. 字符串的排列"
   ]
  },
  {
   "cell_type": "markdown",
   "metadata": {},
   "source": []
  },
  {
   "cell_type": "markdown",
   "metadata": {},
   "source": []
  }
 ],
 "metadata": {
  "kernelspec": {
   "display_name": "base",
   "language": "python",
   "name": "python3"
  },
  "language_info": {
   "codemirror_mode": {
    "name": "ipython",
    "version": 3
   },
   "file_extension": ".py",
   "mimetype": "text/x-python",
   "name": "python",
   "nbconvert_exporter": "python",
   "pygments_lexer": "ipython3",
   "version": "3.11.7"
  }
 },
 "nbformat": 4,
 "nbformat_minor": 2
}
