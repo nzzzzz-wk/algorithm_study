{
 "cells": [
  {
   "cell_type": "markdown",
   "metadata": {},
   "source": [
    "# 2597. 美丽子集的数目\n",
    "\n",
    "给你一个由正整数组成的数组 nums 和一个 正 整数 k 。\n",
    "\n",
    "如果 nums 的子集中，任意两个整数的绝对差均不等于 k ，则认为该子数组是一个 美丽 子集。\n",
    "\n",
    "返回数组 nums 中 非空 且 美丽 的子集数目。\n",
    "\n",
    "nums 的子集定义为：可以经由 nums 删除某些元素（也可能不删除）得到的一个数组。只有在删除元素时选择的索引不同的情况下，两个子集才会被视作是不同的子集。\n",
    "\n",
    " \n",
    "\n",
    "示例 1：\n",
    "\n",
    "输入：nums = [2,4,6], k = 2\n",
    "输出：4\n",
    "解释：数组 nums 中的美丽子集有：[2], [4], [6], [2, 6] 。\n",
    "可以证明数组 [2,4,6] 中只存在 4 个美丽子集。\n",
    "示例 2：\n",
    "\n",
    "输入：nums = [1], k = 1\n",
    "输出：1\n",
    "解释：数组 nums 中的美丽数组有：[1] 。\n",
    "可以证明数组 [1] 中只存在 1 个美丽子集。 \n",
    " \n",
    "\n",
    "提示：\n",
    "\n",
    "1 <= nums.length <= 18\n",
    "1 <= nums[i], k <= 1000"
   ]
  },
  {
   "cell_type": "code",
   "execution_count": 3,
   "metadata": {},
   "outputs": [
    {
     "name": "stdout",
     "output_type": "stream",
     "text": [
      "{'2', '0', '0_2', '1'}\n"
     ]
    },
    {
     "data": {
      "text/plain": [
       "4"
      ]
     },
     "execution_count": 3,
     "metadata": {},
     "output_type": "execute_result"
    }
   ],
   "source": [
    "from typing import List\n",
    "class Solution:\n",
    "    def beautifulSubsets(self, nums: List[int], k: int) -> int:\n",
    "        # nums no empty, ab diff != k\n",
    "        n = len(nums)\n",
    "        sub_set = set()\n",
    "        path_list = []\n",
    "        m = {k:v for k,v in enumerate(nums)}\n",
    "        def dfs(s,path):\n",
    "            if s==n:\n",
    "                return \n",
    "\n",
    "            for idx in range(s,n):\n",
    "                flag = True\n",
    "                # print(idx)\n",
    "                t = [m[int(idx)] for idx in path]\n",
    "                out_set = set([nums[idx] - k, nums[idx]+k])\n",
    "                out = set(t).intersection(out_set)\n",
    "                path.append(str(idx))\n",
    "                # print(nums[s],nums[idx],path,'out:',out,out_set)\n",
    "                if out:\n",
    "                    path.pop()\n",
    "                    flag = False\n",
    "\n",
    "\n",
    "                dfs(idx+1,path)\n",
    "                # print('after dfs',s,idx,path)\n",
    "                if path:\n",
    "                    # if path not in sub_list:\n",
    "                    # print(path)\n",
    "                    sub_set.add('_'.join(path[:]))\n",
    "                if flag:\n",
    "                    path.pop()\n",
    "             \n",
    "        dfs(0,[])\n",
    "        print(sub_set)\n",
    "        return len(sub_set)\n",
    "\n",
    "nums = [2,4,6]\n",
    "d = Solution()\n",
    "d.beautifulSubsets(nums,2)"
   ]
  },
  {
   "cell_type": "code",
   "execution_count": null,
   "metadata": {},
   "outputs": [],
   "source": [
    "nums = [14,10,24,25,29,8,27,26,15,11,3,19,23,5,22,16,28,17]\n",
    "d = Solution()\n",
    "d.beautifulSubsets(nums,27)"
   ]
  },
  {
   "cell_type": "markdown",
   "metadata": {},
   "source": []
  }
 ],
 "metadata": {
  "kernelspec": {
   "display_name": "Python 3",
   "language": "python",
   "name": "python3"
  },
  "language_info": {
   "codemirror_mode": {
    "name": "ipython",
    "version": 3
   },
   "file_extension": ".py",
   "mimetype": "text/x-python",
   "name": "python",
   "nbconvert_exporter": "python",
   "pygments_lexer": "ipython3",
   "version": "3.12.1"
  }
 },
 "nbformat": 4,
 "nbformat_minor": 2
}
