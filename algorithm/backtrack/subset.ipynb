{
 "cells": [
  {
   "cell_type": "code",
   "execution_count": 14,
   "metadata": {},
   "outputs": [
    {
     "name": "stdout",
     "output_type": "stream",
     "text": [
      "[[]]\n"
     ]
    }
   ],
   "source": [
    "from typing import List\n",
    "class Solution:\n",
    "    def subsets(self, nums: List[int]) -> List[List[int]]:\n",
    "        result = []\n",
    "\n",
    "        def backtrack(path,start):\n",
    "            result.append(path)\n",
    "\n",
    "            for ii in range(start):\n",
    "                print(ii)\n",
    "                path.append(nums[ii])\n",
    "                print(path)\n",
    "                backtrack(path,ii+1)\n",
    "\n",
    "                path.pop()\n",
    "            \n",
    "\n",
    "        backtrack([],0)\n",
    "\n",
    "\n",
    "        return result\n",
    "\n",
    "# Example Usage\n",
    "s = Solution()\n",
    "print(s.subsets([1, 2, 3]))"
   ]
  },
  {
   "cell_type": "code",
   "execution_count": null,
   "metadata": {},
   "outputs": [],
   "source": []
  }
 ],
 "metadata": {
  "kernelspec": {
   "display_name": "base",
   "language": "python",
   "name": "python3"
  },
  "language_info": {
   "codemirror_mode": {
    "name": "ipython",
    "version": 3
   },
   "file_extension": ".py",
   "mimetype": "text/x-python",
   "name": "python",
   "nbconvert_exporter": "python",
   "pygments_lexer": "ipython3",
   "version": "3.11.7"
  }
 },
 "nbformat": 4,
 "nbformat_minor": 2
}
