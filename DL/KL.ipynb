{
 "cells": [
  {
   "cell_type": "markdown",
   "metadata": {},
   "source": [
    "函数来计算两个正态分布之间的KL散度（Kullback-Leibler divergence）\n",
    "\n",
    "```scipy entropy```, 可以方便计算 kl-div\n",
    "```pytorch nn.KLDivLoss```, 现成函数\n",
    "\n",
    "\n",
    "$$ \\sum p(x) \\log \\frac{p(x)}{q(x)}  $$\n",
    "\n",
    "$$p(x)=\\frac{1}{\\sqrt{2 \\pi \\sigma^{2}}} e^{-(x-\\mu)^{2} / 2 \\sigma^{2}} $$\n",
    "$$q(x)=\\frac{1}{\\sqrt{2 \\pi }} e^{-\\frac{x^{2}}2}$$"
   ]
  },
  {
   "cell_type": "code",
   "execution_count": 1,
   "metadata": {},
   "outputs": [
    {
     "name": "stdout",
     "output_type": "stream",
     "text": [
      "0.4999695512174259\n"
     ]
    }
   ],
   "source": [
    "import numpy as np\n",
    "from scipy.stats import norm\n",
    "\n",
    "def kl_divergence_normal(mu_p, sigma_p, mu_q, sigma_q):\n",
    "    x = np.linspace(-5,5,1000)\n",
    "    pd = norm.pdf(x,mu_p,sigma_p)\n",
    "    p = pd / np.sum(pd)\n",
    "    qd = norm.pdf(x,mu_q,sigma_q)\n",
    "    q = qd / np.sum(qd)\n",
    "    kl_div = np.sum(p*np.log(p/q))\n",
    "    return kl_div\n",
    "\n",
    "\n",
    "\n",
    "mu_p, sigma_p, mu_q, sigma_q = map(float, [0.0,1.0, 1.0, 1.0])\n",
    "# 分布P的均值、标准差、分布Q的均值、标准差。\n",
    "print(kl_divergence_normal(mu_p, sigma_p, mu_q, sigma_q))\n"
   ]
  },
  {
   "cell_type": "code",
   "execution_count": null,
   "metadata": {},
   "outputs": [],
   "source": []
  }
 ],
 "metadata": {
  "kernelspec": {
   "display_name": "Python 3",
   "language": "python",
   "name": "python3"
  },
  "language_info": {
   "codemirror_mode": {
    "name": "ipython",
    "version": 3
   },
   "file_extension": ".py",
   "mimetype": "text/x-python",
   "name": "python",
   "nbconvert_exporter": "python",
   "pygments_lexer": "ipython3",
   "version": "3.12.1"
  }
 },
 "nbformat": 4,
 "nbformat_minor": 2
}
