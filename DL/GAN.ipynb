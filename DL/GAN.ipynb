{
 "cells": [
  {
   "cell_type": "markdown",
   "metadata": {},
   "source": [
    "## Generator DL8\n",
    "### 描述\n",
    "生成器是生成对抗网络（GAN）中的关键组件，负责生成假数据。请实现一个简单的生成器，能够根据输入的随机噪声生成假数据样本。\n",
    "数据从正态分布中随机生成，生成的真数据加上随机噪声，就变成了假数据。\n",
    "### 输入描述：\n",
    "- 第一行包含两个整数N和D，表示生成的样本数量和特征数量。\n",
    "- 接下来的N行，每行包含D个随机噪声值，用空格分隔的浮点数表示，表示生成数据要加的特征值。\n",
    "- 接下来N行，每行包含D个浮点数，表示真实数据。\n",
    "### 输出描述：\n",
    "- 输出生成器生成的假数据样本，每个样本以空格分隔。\n",
    "-返回结果保留两位小数\n"
   ]
  },
  {
   "cell_type": "code",
   "execution_count": 1,
   "metadata": {},
   "outputs": [
    {
     "name": "stdout",
     "output_type": "stream",
     "text": [
      "0.46 -0.89 0.95 1.88 -0.3\n"
     ]
    }
   ],
   "source": [
    "import numpy as np\n",
    "\n",
    "def generate_data(noise,real):\n",
    "    result = []\n",
    "    for nn in range(n):\n",
    "        result.append([real[nn][ii]+noise[nn][ii] for ii in range(d)])\n",
    "    return result\n",
    "\n",
    "if __name__ == '__main__':\n",
    "    np.random.seed(42)\n",
    "    n,d = 1, 5\n",
    "    noise = [[-0.04, -0.75, 0.3, 0.36, -0.07]]\n",
    "    real_data = [[0.5, -0.14, 0.65, 1.52, -0.23]]\n",
    "   \n",
    "    data = generate_data(noise,real_data)\n",
    "    for row in data:\n",
    "        print(' '.join(str(round(row[i], 2)) for i in range(d)))\n"
   ]
  },
  {
   "cell_type": "markdown",
   "metadata": {},
   "source": [
    "## Discriminator DL9\n",
    "### 描述\n",
    "判别器是生成式对抗网络中的另一个关键组件，其主要任务是判断输入的数据是真实的还是生成的。\n",
    "请编写一个判别器的函数，该函数接受一个数据样本，并返回一个介于0和1之间的值，表示该样本为真实数据的概率。\n",
    "判别器使用逻辑回归，激活函数使用SIGMOID函数。\n",
    "\n",
    "### 输入描述：\n",
    "第一行输入一个整数n，表示样本数量。\n",
    "接下来n行，每行输入一个浮点数，表示生成器生成的数据。\n",
    "### 输出描述：\n",
    "输出n行，每行一个浮点数，表示该数据为真实数据的概率，保留两位小数。"
   ]
  },
  {
   "cell_type": "code",
   "execution_count": 2,
   "metadata": {},
   "outputs": [
    {
     "name": "stdout",
     "output_type": "stream",
     "text": [
      "0.78\n",
      "0.74\n",
      "0.50\n",
      "0.63\n",
      "0.79\n",
      "0.73\n",
      "0.22\n",
      "0.41\n",
      "0.61\n",
      "0.52\n",
      "0.54\n"
     ]
    }
   ],
   "source": [
    "import numpy as np\n",
    "def sigmoid(x):\n",
    "    return 1/(1+np.exp(-x))\n",
    "\n",
    "def discriminator(sample):\n",
    "    return sigmoid(sample)\n",
    "\n",
    "if __name__ == '__main__':\n",
    "    real_data = [1.26,1.06,0.02,0.55,1.31,0.99,-1.28,-0.38,0.43,0.09,0.15]\n",
    "    generated_data = real_data\n",
    "    for sample in generated_data:\n",
    "        print(f\"{discriminator(sample):.2f}\")"
   ]
  },
  {
   "cell_type": "markdown",
   "metadata": {},
   "source": [
    "## 完整 DL10\n",
    "### 描述:\n",
    "生成对抗网络（GAN）是一种深度学习模型，由生成器和判别器两个部分组成。生成器的任务是生成与真实数据相似的假数据，而判别器的任务是判断输入的数据是真实的还是生成的。\n",
    "请编写一个简单的GAN模型，包括生成器和判别器。\n",
    "生成器使用正态分布生成噪声，与真实数据相加，得到生成数据。判别器使用sigmoid函数判断数据是真实的还是生成的。\n",
    "\n",
    "### 输入描述：\n",
    "第一行输入一个整数n，表示样本数量。\n",
    "接下来n行，每行输入一个浮点数，表示真实数据。\n",
    "再接下来n行，每行输入一个浮点数，表示噪声。\n",
    "### 输出描述：\n",
    "输出n行，每行一个浮点数，表示最终判别器判断该样本为真实数据的概率。\n",
    "结果保留两位小数。\n"
   ]
  },
  {
   "cell_type": "code",
   "execution_count": 6,
   "metadata": {},
   "outputs": [
    {
     "name": "stdout",
     "output_type": "stream",
     "text": [
      "0.85\n",
      "0.72\n",
      "0.66\n",
      "0.89\n",
      "0.75\n",
      "0.68\n",
      "0.57\n",
      "0.60\n",
      "0.49\n",
      "0.65\n",
      "0.42\n"
     ]
    }
   ],
   "source": [
    "import numpy as np\n",
    "def sigmoid(x):\n",
    "    return 1/(1+np.exp(-x))\n",
    "\n",
    "def generator(r,n):\n",
    "    return np.add(r,n)\n",
    "\n",
    "def discriminator(sample):\n",
    "    return sigmoid(sample)\n",
    "\n",
    "if __name__ == '__main__':\n",
    "    real_data = [1.26,1.06,0.02,0.55,1.31,0.99,-1.28,-0.38,0.43,0.09,0.15]\n",
    "    noise = [0.50,-0.14,0.65,1.52,-0.23,-0.23,1.58,0.77,-0.47,0.54,-0.46]\n",
    "    generated_data = generator(noise,real_data)\n",
    "    for sample in generated_data:\n",
    "        print(f\"{discriminator(sample):.2f}\")"
   ]
  },
  {
   "cell_type": "markdown",
   "metadata": {},
   "source": []
  }
 ],
 "metadata": {
  "kernelspec": {
   "display_name": "Python 3",
   "language": "python",
   "name": "python3"
  },
  "language_info": {
   "codemirror_mode": {
    "name": "ipython",
    "version": 3
   },
   "file_extension": ".py",
   "mimetype": "text/x-python",
   "name": "python",
   "nbconvert_exporter": "python",
   "pygments_lexer": "ipython3",
   "version": "3.12.1"
  }
 },
 "nbformat": 4,
 "nbformat_minor": 2
}
